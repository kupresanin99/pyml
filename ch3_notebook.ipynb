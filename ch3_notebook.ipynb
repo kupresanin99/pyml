{
 "cells": [
  {
   "cell_type": "code",
   "execution_count": 42,
   "id": "ae48149f",
   "metadata": {},
   "outputs": [],
   "source": [
    "import numpy as np\n",
    "from sklearn import datasets\n",
    "from sklearn.model_selection import train_test_split\n",
    "from sklearn.preprocessing import StandardScaler\n",
    "from sklearn.linear_model import Perceptron\n",
    "from sklearn.metrics import accuracy_score\n",
    "from matplotlib.colors import ListedColormap\n",
    "import matplotlib.pyplot as plt"
   ]
  },
  {
   "cell_type": "code",
   "execution_count": 43,
   "id": "777f0428",
   "metadata": {},
   "outputs": [],
   "source": [
    "def plot_decision_regions(X, y, classifier, test_idx=None, resolution=0.02):\n",
    "\n",
    "    \n",
    "    # setup marker generator and color map\n",
    "    markers = ('o', 's', '^', 'v', '<')\n",
    "    colors = ('red', 'blue', 'lightgreen', 'gray', 'cyan')\n",
    "    cmap = ListedColormap(colors[:len(np.unique(y))])\n",
    "\n",
    "    # plot the decision surface\n",
    "    x1_min, x1_max = X[:, 0].min() - 1, X[:, 0].max() + 1\n",
    "    x2_min, x2_max = X[:, 1].min() - 1, X[:, 1].max() + 1\n",
    "    xx1, xx2 = np.meshgrid(np.arange(x1_min, x1_max, resolution),\n",
    "                           np.arange(x2_min, x2_max, resolution))\n",
    "    lab = classifier.predict(np.array([xx1.ravel(), xx2.ravel()]).T)\n",
    "    lab = lab.reshape(xx1.shape)\n",
    "    plt.contourf(xx1, xx2, lab, alpha=0.3, cmap=cmap)\n",
    "    plt.xlim(xx1.min(), xx1.max())\n",
    "    plt.ylim(xx2.min(), xx2.max())\n",
    "\n",
    "    # plot class examples\n",
    "    for idx, cl in enumerate(np.unique(y)):\n",
    "        plt.scatter(x=X[y == cl, 0], \n",
    "                    y=X[y == cl, 1],\n",
    "                    alpha=0.8, \n",
    "                    c=colors[idx],\n",
    "                    marker=markers[idx], \n",
    "                    label=f'Class {cl}', \n",
    "                    edgecolor='black')\n",
    "\n",
    "    # highlight test examples\n",
    "    if test_idx:\n",
    "        # plot all examples\n",
    "        X_test, y_test = X[test_idx, :], y[test_idx]\n",
    "\n",
    "        plt.scatter(X_test[:, 0],\n",
    "                    X_test[:, 1],\n",
    "                    c='none',\n",
    "                    edgecolor='black',\n",
    "                    alpha=1.0,\n",
    "                    linewidth=1,\n",
    "                    marker='o',\n",
    "                    s=100, \n",
    "                    label='Test set')"
   ]
  },
  {
   "cell_type": "code",
   "execution_count": 15,
   "id": "c6700bb8",
   "metadata": {},
   "outputs": [],
   "source": [
    "iris = datasets.load_iris()\n",
    "X = iris.data[:, [2, 3]]\n",
    "y = iris.target"
   ]
  },
  {
   "cell_type": "code",
   "execution_count": 16,
   "id": "cd00f322",
   "metadata": {},
   "outputs": [
    {
     "name": "stdout",
     "output_type": "stream",
     "text": [
      "Class labels: [0 1 2]\n"
     ]
    }
   ],
   "source": [
    "print(f\"\"\"Class labels: {np.unique(y)}\"\"\")"
   ]
  },
  {
   "cell_type": "code",
   "execution_count": 17,
   "id": "34398873",
   "metadata": {},
   "outputs": [],
   "source": [
    "X_train, X_test, y_train, y_test = train_test_split(X, y, test_size=0.3, random_state=1, stratify=y)"
   ]
  },
  {
   "cell_type": "code",
   "execution_count": 18,
   "id": "56cb3432",
   "metadata": {},
   "outputs": [
    {
     "name": "stdout",
     "output_type": "stream",
     "text": [
      "Label counts in y: [50 50 50]\n",
      "Label counts in y_train: [35 35 35]\n",
      "Label counts in y_test: [15 15 15]\n"
     ]
    }
   ],
   "source": [
    "print(f\"\"\"Label counts in y: {np.bincount(y)}\"\"\")\n",
    "print(f\"\"\"Label counts in y_train: {np.bincount(y_train)}\"\"\")\n",
    "print(f\"\"\"Label counts in y_test: {np.bincount(y_test)}\"\"\")"
   ]
  },
  {
   "cell_type": "code",
   "execution_count": 19,
   "id": "2c872d1a",
   "metadata": {},
   "outputs": [],
   "source": [
    "sc = StandardScaler()\n",
    "sc.fit(X_train)\n",
    "X_train_std = sc.transform(X_train)\n",
    "X_test_std = sc.transform(X_test)"
   ]
  },
  {
   "cell_type": "code",
   "execution_count": 20,
   "id": "addda4be",
   "metadata": {},
   "outputs": [
    {
     "data": {
      "text/plain": [
       "Perceptron(eta0=0.1, random_state=1)"
      ]
     },
     "execution_count": 20,
     "metadata": {},
     "output_type": "execute_result"
    }
   ],
   "source": [
    "ppn = Perceptron(eta0=0.1, random_state=1)\n",
    "ppn.fit(X_train_std, y_train)"
   ]
  },
  {
   "cell_type": "code",
   "execution_count": 21,
   "id": "f6deebd8",
   "metadata": {},
   "outputs": [],
   "source": [
    "y_pred = ppn.predict(X_test_std)"
   ]
  },
  {
   "cell_type": "code",
   "execution_count": 23,
   "id": "706fe602",
   "metadata": {},
   "outputs": [
    {
     "name": "stdout",
     "output_type": "stream",
     "text": [
      "Misclassed examples: 1\n"
     ]
    }
   ],
   "source": [
    "print(f\"\"\"Misclassed examples: {(y_test != y_pred).sum()}\"\"\")"
   ]
  },
  {
   "cell_type": "code",
   "execution_count": 27,
   "id": "b1269d7c",
   "metadata": {},
   "outputs": [
    {
     "name": "stdout",
     "output_type": "stream",
     "text": [
      "Accuracy: 0.978\n"
     ]
    }
   ],
   "source": [
    "print(f\"\"\"Accuracy: {accuracy_score(y_test, y_pred):.3f}\"\"\")"
   ]
  },
  {
   "cell_type": "code",
   "execution_count": 28,
   "id": "cbdfc88c",
   "metadata": {},
   "outputs": [
    {
     "name": "stdout",
     "output_type": "stream",
     "text": [
      "Accuracy: 0.978\n"
     ]
    }
   ],
   "source": [
    "print(f\"\"\"Accuracy: {ppn.score(X_test_std, y_test):.3f}\"\"\")"
   ]
  },
  {
   "cell_type": "code",
   "execution_count": 30,
   "id": "51330f65",
   "metadata": {},
   "outputs": [],
   "source": [
    "X_combined_std = np.vstack((X_train_std, X_test_std))\n",
    "y_combined = np.hstack((y_train, y_test))"
   ]
  },
  {
   "cell_type": "code",
   "execution_count": 31,
   "id": "7eecd26c",
   "metadata": {},
   "outputs": [
    {
     "data": {
      "text/plain": [
       "array([[-1.33269725, -1.30728421],\n",
       "       [-1.16537974, -1.30728421],\n",
       "       [ 0.84243039,  1.44587881],\n",
       "       [ 1.0655204 ,  1.18367281],\n",
       "       [-1.44424226, -1.30728421],\n",
       "       [ 1.0097479 ,  1.57698181],\n",
       "       [ 1.56747294,  1.18367281],\n",
       "       [-1.44424226, -1.30728421],\n",
       "       [ 1.12129291,  0.5281578 ],\n",
       "       [ 0.45202286,  0.1348488 ],\n",
       "       [-0.27301968, -0.2584602 ],\n",
       "       [ 0.06161534,  0.2659518 ],\n",
       "       [-1.38846976, -1.30728421],\n",
       "       [ 0.50779537,  0.0037458 ],\n",
       "       [ 0.11738784,  0.1348488 ],\n",
       "       [ 0.73088538,  0.92146681],\n",
       "       [-1.05383474, -1.30728421],\n",
       "       [-0.16147468, -0.2584602 ],\n",
       "       [ 0.06161534,  0.0037458 ],\n",
       "       [-1.22115225, -1.30728421],\n",
       "       [ 0.56356787,  0.79036381],\n",
       "       [ 1.73479045,  1.44587881],\n",
       "       [ 0.39625036,  0.3970548 ],\n",
       "       [ 0.39625036,  0.1348488 ],\n",
       "       [ 0.00584283, -0.1273572 ],\n",
       "       [ 1.0097479 ,  1.57698181],\n",
       "       [ 0.50779537,  0.2659518 ],\n",
       "       [ 1.0097479 ,  0.2659518 ],\n",
       "       [ 1.12129291,  1.31477581],\n",
       "       [ 0.73088538,  1.57698181],\n",
       "       [ 0.17316034,  0.1348488 ],\n",
       "       [-1.27692475, -1.04507821],\n",
       "       [ 1.62324544,  1.31477581],\n",
       "       [ 0.67511288,  0.92146681],\n",
       "       [ 0.56356787,  0.79036381],\n",
       "       [ 1.0097479 ,  1.18367281],\n",
       "       [ 0.22893285,  0.3970548 ],\n",
       "       [ 1.62324544,  1.05256981],\n",
       "       [ 0.9539754 ,  0.79036381],\n",
       "       [-1.22115225, -1.30728421],\n",
       "       [ 0.61934037,  0.79036381],\n",
       "       [-1.33269725, -1.30728421],\n",
       "       [ 0.73088538,  0.3970548 ],\n",
       "       [-1.05383474, -1.04507821],\n",
       "       [-1.55578727, -1.30728421],\n",
       "       [ 0.61934037,  0.3970548 ],\n",
       "       [-1.27692475, -1.30728421],\n",
       "       [-1.50001477, -1.43838721],\n",
       "       [ 0.9539754 ,  0.79036381],\n",
       "       [ 0.50779537,  0.3970548 ],\n",
       "       [-1.16537974, -1.17618121],\n",
       "       [-0.16147468, -0.2584602 ],\n",
       "       [ 0.17316034, -0.2584602 ],\n",
       "       [-1.27692475, -1.30728421],\n",
       "       [-1.27692475, -1.30728421],\n",
       "       [-1.27692475, -1.30728421],\n",
       "       [-0.04992967, -0.2584602 ],\n",
       "       [ 1.28861042,  1.70808482],\n",
       "       [-1.38846976, -1.17618121],\n",
       "       [ 0.61934037,  0.3970548 ],\n",
       "       [-1.38846976, -1.30728421],\n",
       "       [ 0.39625036,  0.5281578 ],\n",
       "       [ 1.23283791,  0.79036381],\n",
       "       [-1.22115225, -1.30728421],\n",
       "       [-1.33269725, -1.30728421],\n",
       "       [ 0.34047786,  0.0037458 ],\n",
       "       [ 0.73088538,  0.92146681],\n",
       "       [-0.10570217,  0.1348488 ],\n",
       "       [ 0.17316034,  0.1348488 ],\n",
       "       [ 0.56356787,  0.79036381],\n",
       "       [ 1.28861042,  1.44587881],\n",
       "       [ 0.39625036,  0.3970548 ],\n",
       "       [ 0.39625036,  0.3970548 ],\n",
       "       [ 0.89820289,  1.18367281],\n",
       "       [ 1.0097479 ,  1.31477581],\n",
       "       [ 0.45202286,  0.2659518 ],\n",
       "       [-1.27692475, -1.04507821],\n",
       "       [-1.16537974, -0.91397521],\n",
       "       [ 1.28861042,  0.92146681],\n",
       "       [ 0.73088538,  0.5281578 ],\n",
       "       [ 1.45592793,  1.05256981],\n",
       "       [ 0.67511288,  0.3970548 ],\n",
       "       [-1.27692475, -1.30728421],\n",
       "       [ 0.22893285,  0.1348488 ],\n",
       "       [ 0.73088538,  1.05256981],\n",
       "       [ 1.23283791,  1.70808482],\n",
       "       [-1.27692475, -1.17618121],\n",
       "       [-1.33269725, -1.30728421],\n",
       "       [ 1.0097479 ,  0.79036381],\n",
       "       [-1.33269725, -1.17618121],\n",
       "       [ 1.17706541,  1.44587881],\n",
       "       [ 0.06161534, -0.1273572 ],\n",
       "       [ 0.22893285,  0.0037458 ],\n",
       "       [ 0.28470535,  0.1348488 ],\n",
       "       [-1.27692475, -1.43838721],\n",
       "       [ 0.78665788,  1.44587881],\n",
       "       [ 0.34047786,  0.1348488 ],\n",
       "       [-1.38846976, -1.30728421],\n",
       "       [-1.33269725, -1.17618121],\n",
       "       [ 0.67511288,  0.65926081],\n",
       "       [-1.38846976, -1.17618121],\n",
       "       [ 0.11738784,  0.0037458 ],\n",
       "       [-1.22115225, -1.04507821],\n",
       "       [-1.27692475, -1.30728421],\n",
       "       [-1.38846976, -1.30728421],\n",
       "       [ 0.89820289,  1.44587881],\n",
       "       [-1.16537974, -1.04507821],\n",
       "       [-1.33269725, -1.17618121],\n",
       "       [ 0.39625036,  0.65926081],\n",
       "       [ 0.34047786,  0.2659518 ],\n",
       "       [ 0.11738784,  0.1348488 ],\n",
       "       [ 1.12129291,  0.79036381],\n",
       "       [ 0.39625036,  0.3970548 ],\n",
       "       [ 0.84243039,  0.92146681],\n",
       "       [-1.38846976, -1.04507821],\n",
       "       [-1.27692475, -1.04507821],\n",
       "       [ 0.61934037,  0.79036381],\n",
       "       [-1.33269725, -1.30728421],\n",
       "       [-0.27301968, -0.2584602 ],\n",
       "       [-1.33269725, -1.30728421],\n",
       "       [ 0.56356787,  0.2659518 ],\n",
       "       [ 0.73088538,  1.44587881],\n",
       "       [ 0.39625036,  0.3970548 ],\n",
       "       [ 0.28470535,  0.1348488 ],\n",
       "       [ 0.78665788,  1.05256981],\n",
       "       [ 1.17706541,  1.18367281],\n",
       "       [-1.33269725, -1.43838721],\n",
       "       [ 0.34047786,  0.2659518 ],\n",
       "       [ 0.61934037,  1.05256981],\n",
       "       [ 0.22893285,  0.1348488 ],\n",
       "       [ 0.50779537,  0.5281578 ],\n",
       "       [-0.4403372 , -0.1273572 ],\n",
       "       [ 1.0655204 ,  1.70808482],\n",
       "       [-1.22115225, -0.78287221],\n",
       "       [ 0.67511288,  1.05256981],\n",
       "       [-1.22115225, -1.30728421],\n",
       "       [-1.33269725, -1.30728421],\n",
       "       [ 0.11738784, -0.2584602 ],\n",
       "       [ 0.11738784,  0.1348488 ],\n",
       "       [ 1.40015543,  0.79036381],\n",
       "       [ 0.9539754 ,  1.18367281],\n",
       "       [-1.33269725, -1.43838721],\n",
       "       [-1.22115225, -1.30728421],\n",
       "       [-1.33269725, -1.30728421],\n",
       "       [ 0.50779537,  0.2659518 ],\n",
       "       [ 1.0655204 ,  1.44587881],\n",
       "       [ 0.73088538,  0.79036381],\n",
       "       [ 0.45202286,  0.3970548 ],\n",
       "       [-1.27692475, -1.30728421],\n",
       "       [-1.27692475, -1.43838721]])"
      ]
     },
     "execution_count": 31,
     "metadata": {},
     "output_type": "execute_result"
    }
   ],
   "source": [
    "X_combined_std"
   ]
  },
  {
   "cell_type": "code",
   "execution_count": 32,
   "id": "4d70916d",
   "metadata": {},
   "outputs": [
    {
     "data": {
      "text/plain": [
       "array([0, 0, 2, 2, 0, 2, 2, 0, 2, 1, 1, 1, 0, 1, 1, 2, 0, 1, 1, 0, 2, 2,\n",
       "       1, 1, 1, 2, 1, 2, 2, 2, 1, 0, 2, 2, 2, 2, 1, 2, 2, 0, 2, 0, 2, 0,\n",
       "       0, 1, 0, 0, 2, 1, 0, 1, 1, 0, 0, 0, 1, 2, 0, 1, 0, 1, 2, 0, 0, 1,\n",
       "       2, 1, 1, 1, 2, 1, 1, 2, 2, 1, 0, 0, 2, 1, 2, 2, 0, 1, 2, 2, 0, 0,\n",
       "       2, 0, 2, 1, 1, 1, 0, 2, 1, 0, 0, 1, 0, 1, 0, 0, 0, 2, 0, 0, 2, 1,\n",
       "       1, 2, 1, 2, 0, 0, 2, 0, 1, 0, 1, 2, 1, 1, 2, 2, 0, 1, 2, 1, 1, 1,\n",
       "       2, 0, 2, 0, 0, 1, 1, 2, 2, 0, 0, 0, 1, 2, 2, 1, 0, 0])"
      ]
     },
     "execution_count": 32,
     "metadata": {},
     "output_type": "execute_result"
    }
   ],
   "source": [
    "y_combined"
   ]
  },
  {
   "cell_type": "code",
   "execution_count": 44,
   "id": "ad584e47",
   "metadata": {},
   "outputs": [
    {
     "data": {
      "image/png": "[encoded data removed]",
      "text/plain": [
       "<Figure size 640x480 with 1 Axes>"
      ]
     },
     "metadata": {},
     "output_type": "display_data"
    }
   ],
   "source": [
    "plot_decision_regions(X=X_combined_std, y=y_combined, classifier=ppn, test_idx=range(105, 150))\n",
    "plt.xlabel(\"Petal Length std\")\n",
    "plt.ylabel(\"Petal Width std\")\n",
    "plt.legend(loc='upper left')\n",
    "plt.tight_layout()\n",
    "plt.show()"
   ]
  },
  {
   "cell_type": "code",
   "execution_count": null,
   "id": "9c5b5019",
   "metadata": {},
   "outputs": [],
   "source": []
  }
 ],
 "metadata": {
  "kernelspec": {
   "display_name": "Python 3 (ipykernel)",
   "language": "python",
   "name": "python3"
  },
  "language_info": {
   "codemirror_mode": {
    "name": "ipython",
    "version": 3
   },
   "file_extension": ".py",
   "mimetype": "text/x-python",
   "name": "python",
   "nbconvert_exporter": "python",
   "pygments_lexer": "ipython3",
   "version": "3.9.7"
  }
 },
 "nbformat": 4,
 "nbformat_minor": 5
}
